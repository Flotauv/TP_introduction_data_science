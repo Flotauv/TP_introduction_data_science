{
 "cells": [
  {
   "cell_type": "code",
   "execution_count": 20,
   "id": "e74fda35",
   "metadata": {},
   "outputs": [
    {
     "name": "stdout",
     "output_type": "stream",
     "text": [
      "Requirement already satisfied: ydata_profiling==4.7.0 in /Library/Frameworks/Python.framework/Versions/3.9/lib/python3.9/site-packages (4.7.0)\n",
      "Requirement already satisfied: scipy<1.12,>=1.4.1 in /Library/Frameworks/Python.framework/Versions/3.9/lib/python3.9/site-packages (from ydata_profiling==4.7.0) (1.11.4)\n",
      "Requirement already satisfied: pandas!=1.4.0,<3,>1.1 in /Library/Frameworks/Python.framework/Versions/3.9/lib/python3.9/site-packages (from ydata_profiling==4.7.0) (2.2.1)\n",
      "Requirement already satisfied: matplotlib<3.9,>=3.2 in /Library/Frameworks/Python.framework/Versions/3.9/lib/python3.9/site-packages (from ydata_profiling==4.7.0) (3.8.3)\n",
      "Requirement already satisfied: pydantic>=2 in /Library/Frameworks/Python.framework/Versions/3.9/lib/python3.9/site-packages (from ydata_profiling==4.7.0) (2.6.4)\n",
      "Requirement already satisfied: PyYAML<6.1,>=5.0.0 in /Library/Frameworks/Python.framework/Versions/3.9/lib/python3.9/site-packages (from ydata_profiling==4.7.0) (6.0.1)\n",
      "Requirement already satisfied: jinja2<3.2,>=2.11.1 in /Library/Frameworks/Python.framework/Versions/3.9/lib/python3.9/site-packages (from ydata_profiling==4.7.0) (3.1.3)\n",
      "Requirement already satisfied: visions<0.7.7,>=0.7.5 in /Library/Frameworks/Python.framework/Versions/3.9/lib/python3.9/site-packages (from visions[type_image_path]<0.7.7,>=0.7.5->ydata_profiling==4.7.0) (0.7.6)\n",
      "Collecting numpy<2,>=1.16.0 (from ydata_profiling==4.7.0)\n",
      "  Using cached numpy-1.26.4-cp39-cp39-macosx_10_9_x86_64.whl.metadata (61 kB)\n",
      "Requirement already satisfied: htmlmin==0.1.12 in /Library/Frameworks/Python.framework/Versions/3.9/lib/python3.9/site-packages (from ydata_profiling==4.7.0) (0.1.12)\n",
      "Requirement already satisfied: phik<0.13,>=0.11.1 in /Library/Frameworks/Python.framework/Versions/3.9/lib/python3.9/site-packages (from ydata_profiling==4.7.0) (0.12.4)\n",
      "Requirement already satisfied: requests<3,>=2.24.0 in /Library/Frameworks/Python.framework/Versions/3.9/lib/python3.9/site-packages (from ydata_profiling==4.7.0) (2.31.0)\n",
      "Requirement already satisfied: tqdm<5,>=4.48.2 in /Library/Frameworks/Python.framework/Versions/3.9/lib/python3.9/site-packages (from ydata_profiling==4.7.0) (4.66.2)\n",
      "Requirement already satisfied: seaborn<0.13,>=0.10.1 in /Library/Frameworks/Python.framework/Versions/3.9/lib/python3.9/site-packages (from ydata_profiling==4.7.0) (0.12.2)\n",
      "Requirement already satisfied: multimethod<2,>=1.4 in /Library/Frameworks/Python.framework/Versions/3.9/lib/python3.9/site-packages (from ydata_profiling==4.7.0) (1.11.2)\n",
      "Requirement already satisfied: statsmodels<1,>=0.13.2 in /Library/Frameworks/Python.framework/Versions/3.9/lib/python3.9/site-packages (from ydata_profiling==4.7.0) (0.14.1)\n",
      "Requirement already satisfied: typeguard<5,>=4.1.2 in /Library/Frameworks/Python.framework/Versions/3.9/lib/python3.9/site-packages (from ydata_profiling==4.7.0) (4.1.5)\n",
      "Requirement already satisfied: imagehash==4.3.1 in /Library/Frameworks/Python.framework/Versions/3.9/lib/python3.9/site-packages (from ydata_profiling==4.7.0) (4.3.1)\n",
      "Requirement already satisfied: wordcloud>=1.9.1 in /Library/Frameworks/Python.framework/Versions/3.9/lib/python3.9/site-packages (from ydata_profiling==4.7.0) (1.9.3)\n",
      "Requirement already satisfied: dacite>=1.8 in /Library/Frameworks/Python.framework/Versions/3.9/lib/python3.9/site-packages (from ydata_profiling==4.7.0) (1.8.1)\n",
      "Requirement already satisfied: numba<1,>=0.56.0 in /Library/Frameworks/Python.framework/Versions/3.9/lib/python3.9/site-packages (from ydata_profiling==4.7.0) (0.59.0)\n",
      "Requirement already satisfied: PyWavelets in /Library/Frameworks/Python.framework/Versions/3.9/lib/python3.9/site-packages (from imagehash==4.3.1->ydata_profiling==4.7.0) (1.5.0)\n",
      "Requirement already satisfied: pillow in /Library/Frameworks/Python.framework/Versions/3.9/lib/python3.9/site-packages (from imagehash==4.3.1->ydata_profiling==4.7.0) (10.2.0)\n",
      "Requirement already satisfied: MarkupSafe>=2.0 in /Library/Frameworks/Python.framework/Versions/3.9/lib/python3.9/site-packages (from jinja2<3.2,>=2.11.1->ydata_profiling==4.7.0) (2.1.5)\n",
      "Requirement already satisfied: contourpy>=1.0.1 in /Library/Frameworks/Python.framework/Versions/3.9/lib/python3.9/site-packages (from matplotlib<3.9,>=3.2->ydata_profiling==4.7.0) (1.2.0)\n",
      "Requirement already satisfied: cycler>=0.10 in /Library/Frameworks/Python.framework/Versions/3.9/lib/python3.9/site-packages (from matplotlib<3.9,>=3.2->ydata_profiling==4.7.0) (0.12.1)\n",
      "Requirement already satisfied: fonttools>=4.22.0 in /Library/Frameworks/Python.framework/Versions/3.9/lib/python3.9/site-packages (from matplotlib<3.9,>=3.2->ydata_profiling==4.7.0) (4.50.0)\n",
      "Requirement already satisfied: kiwisolver>=1.3.1 in /Library/Frameworks/Python.framework/Versions/3.9/lib/python3.9/site-packages (from matplotlib<3.9,>=3.2->ydata_profiling==4.7.0) (1.4.5)\n",
      "Requirement already satisfied: packaging>=20.0 in /Users/florentsaunier/Library/Python/3.9/lib/python/site-packages (from matplotlib<3.9,>=3.2->ydata_profiling==4.7.0) (23.2)\n",
      "Requirement already satisfied: pyparsing>=2.3.1 in /Library/Frameworks/Python.framework/Versions/3.9/lib/python3.9/site-packages (from matplotlib<3.9,>=3.2->ydata_profiling==4.7.0) (3.1.2)\n",
      "Requirement already satisfied: python-dateutil>=2.7 in /Users/florentsaunier/Library/Python/3.9/lib/python/site-packages (from matplotlib<3.9,>=3.2->ydata_profiling==4.7.0) (2.8.2)\n",
      "Requirement already satisfied: importlib-resources>=3.2.0 in /Library/Frameworks/Python.framework/Versions/3.9/lib/python3.9/site-packages (from matplotlib<3.9,>=3.2->ydata_profiling==4.7.0) (6.3.1)\n",
      "Requirement already satisfied: llvmlite<0.43,>=0.42.0dev0 in /Library/Frameworks/Python.framework/Versions/3.9/lib/python3.9/site-packages (from numba<1,>=0.56.0->ydata_profiling==4.7.0) (0.42.0)\n",
      "Requirement already satisfied: pytz>=2020.1 in /Library/Frameworks/Python.framework/Versions/3.9/lib/python3.9/site-packages (from pandas!=1.4.0,<3,>1.1->ydata_profiling==4.7.0) (2024.1)\n",
      "Requirement already satisfied: tzdata>=2022.7 in /Library/Frameworks/Python.framework/Versions/3.9/lib/python3.9/site-packages (from pandas!=1.4.0,<3,>1.1->ydata_profiling==4.7.0) (2024.1)\n",
      "Requirement already satisfied: joblib>=0.14.1 in /Library/Frameworks/Python.framework/Versions/3.9/lib/python3.9/site-packages (from phik<0.13,>=0.11.1->ydata_profiling==4.7.0) (1.3.2)\n",
      "Requirement already satisfied: annotated-types>=0.4.0 in /Library/Frameworks/Python.framework/Versions/3.9/lib/python3.9/site-packages (from pydantic>=2->ydata_profiling==4.7.0) (0.6.0)\n",
      "Requirement already satisfied: pydantic-core==2.16.3 in /Library/Frameworks/Python.framework/Versions/3.9/lib/python3.9/site-packages (from pydantic>=2->ydata_profiling==4.7.0) (2.16.3)\n",
      "Requirement already satisfied: typing-extensions>=4.6.1 in /Users/florentsaunier/Library/Python/3.9/lib/python/site-packages (from pydantic>=2->ydata_profiling==4.7.0) (4.8.0)\n",
      "Requirement already satisfied: charset-normalizer<4,>=2 in /Library/Frameworks/Python.framework/Versions/3.9/lib/python3.9/site-packages (from requests<3,>=2.24.0->ydata_profiling==4.7.0) (3.3.2)\n",
      "Requirement already satisfied: idna<4,>=2.5 in /Library/Frameworks/Python.framework/Versions/3.9/lib/python3.9/site-packages (from requests<3,>=2.24.0->ydata_profiling==4.7.0) (3.6)\n",
      "Requirement already satisfied: urllib3<3,>=1.21.1 in /Library/Frameworks/Python.framework/Versions/3.9/lib/python3.9/site-packages (from requests<3,>=2.24.0->ydata_profiling==4.7.0) (2.2.1)\n",
      "Requirement already satisfied: certifi>=2017.4.17 in /Library/Frameworks/Python.framework/Versions/3.9/lib/python3.9/site-packages (from requests<3,>=2.24.0->ydata_profiling==4.7.0) (2024.2.2)\n",
      "Requirement already satisfied: patsy>=0.5.4 in /Library/Frameworks/Python.framework/Versions/3.9/lib/python3.9/site-packages (from statsmodels<1,>=0.13.2->ydata_profiling==4.7.0) (0.5.6)\n",
      "Requirement already satisfied: importlib-metadata>=3.6 in /Users/florentsaunier/Library/Python/3.9/lib/python/site-packages (from typeguard<5,>=4.1.2->ydata_profiling==4.7.0) (6.8.0)\n",
      "Requirement already satisfied: attrs>=19.3.0 in /Library/Frameworks/Python.framework/Versions/3.9/lib/python3.9/site-packages (from visions<0.7.7,>=0.7.5->visions[type_image_path]<0.7.7,>=0.7.5->ydata_profiling==4.7.0) (23.2.0)\n",
      "Requirement already satisfied: networkx>=2.4 in /Library/Frameworks/Python.framework/Versions/3.9/lib/python3.9/site-packages (from visions<0.7.7,>=0.7.5->visions[type_image_path]<0.7.7,>=0.7.5->ydata_profiling==4.7.0) (3.2.1)\n"
     ]
    },
    {
     "name": "stdout",
     "output_type": "stream",
     "text": [
      "Requirement already satisfied: zipp>=0.5 in /Users/florentsaunier/Library/Python/3.9/lib/python/site-packages (from importlib-metadata>=3.6->typeguard<5,>=4.1.2->ydata_profiling==4.7.0) (3.17.0)\n",
      "Requirement already satisfied: six in /Users/florentsaunier/Library/Python/3.9/lib/python/site-packages (from patsy>=0.5.4->statsmodels<1,>=0.13.2->ydata_profiling==4.7.0) (1.16.0)\n",
      "Using cached numpy-1.26.4-cp39-cp39-macosx_10_9_x86_64.whl (20.6 MB)\n",
      "Installing collected packages: numpy\n",
      "  Attempting uninstall: numpy\n",
      "    Found existing installation: numpy 2.0.2\n",
      "    Uninstalling numpy-2.0.2:\n",
      "      Successfully uninstalled numpy-2.0.2\n",
      "\u001b[31mERROR: pip's dependency resolver does not currently take into account all the packages that are installed. This behaviour is the source of the following dependency conflicts.\n",
      "blis 1.0.1 requires numpy<3.0.0,>=2.0.0, but you have numpy 1.26.4 which is incompatible.\n",
      "thinc 8.3.2 requires numpy<2.1.0,>=2.0.0; python_version >= \"3.9\", but you have numpy 1.26.4 which is incompatible.\u001b[0m\u001b[31m\n",
      "\u001b[0mSuccessfully installed numpy-1.26.4\n"
     ]
    }
   ],
   "source": [
    "#! pip install ydata_profiling==4.7.0"
   ]
  },
  {
   "cell_type": "code",
   "execution_count": 24,
   "id": "84056f96",
   "metadata": {},
   "outputs": [],
   "source": [
    "import numpy as np \n",
    "import pandas as pd\n",
    "import math as m \n",
    "import matplotlib.pyplot as plt\n",
    "from matplotlib.pyplot import *\n",
    "import random\n",
    "import seaborn as sns "
   ]
  },
  {
   "cell_type": "markdown",
   "id": "7167ec01",
   "metadata": {},
   "source": [
    "## Ouverture de la base de données "
   ]
  },
  {
   "cell_type": "code",
   "execution_count": 25,
   "id": "1dd78f04",
   "metadata": {},
   "outputs": [
    {
     "data": {
      "text/html": [
       "<div>\n",
       "<style scoped>\n",
       "    .dataframe tbody tr th:only-of-type {\n",
       "        vertical-align: middle;\n",
       "    }\n",
       "\n",
       "    .dataframe tbody tr th {\n",
       "        vertical-align: top;\n",
       "    }\n",
       "\n",
       "    .dataframe thead th {\n",
       "        text-align: right;\n",
       "    }\n",
       "</style>\n",
       "<table border=\"1\" class=\"dataframe\">\n",
       "  <thead>\n",
       "    <tr style=\"text-align: right;\">\n",
       "      <th></th>\n",
       "      <th>Date</th>\n",
       "      <th>Date et heure de restitution</th>\n",
       "      <th>Gare</th>\n",
       "      <th>Code UIC</th>\n",
       "      <th>Nature d'objets</th>\n",
       "      <th>Type d'objets</th>\n",
       "      <th>Type d'enregistrement</th>\n",
       "    </tr>\n",
       "  </thead>\n",
       "  <tbody>\n",
       "    <tr>\n",
       "      <th>0</th>\n",
       "      <td>2018-08-16T08:46:55+02:00</td>\n",
       "      <td>2018-08-16T10:52:08+02:00</td>\n",
       "      <td>Nantes</td>\n",
       "      <td>87481002.0</td>\n",
       "      <td>Téléphone portable</td>\n",
       "      <td>Appareils électroniques, informatiques, appare...</td>\n",
       "      <td>Objet trouvé</td>\n",
       "    </tr>\n",
       "    <tr>\n",
       "      <th>1</th>\n",
       "      <td>2018-08-16T08:50:34+02:00</td>\n",
       "      <td>NaN</td>\n",
       "      <td>Redon</td>\n",
       "      <td>87471300.0</td>\n",
       "      <td>Casque (vélo, moto)</td>\n",
       "      <td>Vélos, trottinettes, accessoires 2 roues</td>\n",
       "      <td>Objet trouvé</td>\n",
       "    </tr>\n",
       "    <tr>\n",
       "      <th>2</th>\n",
       "      <td>2018-08-16T09:11:18+02:00</td>\n",
       "      <td>NaN</td>\n",
       "      <td>Béziers</td>\n",
       "      <td>87781005.0</td>\n",
       "      <td>Sac d'enseigne (plastique, papier, …)</td>\n",
       "      <td>Bagagerie: sacs, valises, cartables</td>\n",
       "      <td>Objet trouvé</td>\n",
       "    </tr>\n",
       "    <tr>\n",
       "      <th>3</th>\n",
       "      <td>2018-08-16T09:19:47+02:00</td>\n",
       "      <td>NaN</td>\n",
       "      <td>Rennes</td>\n",
       "      <td>87471003.0</td>\n",
       "      <td>Manteau, veste, blazer, parka, blouson, cape</td>\n",
       "      <td>Vêtements, chaussures</td>\n",
       "      <td>Objet trouvé</td>\n",
       "    </tr>\n",
       "    <tr>\n",
       "      <th>4</th>\n",
       "      <td>2018-08-16T09:23:18+02:00</td>\n",
       "      <td>NaN</td>\n",
       "      <td>Paris Montparnasse</td>\n",
       "      <td>87391003.0</td>\n",
       "      <td>Sac à dos</td>\n",
       "      <td>Bagagerie: sacs, valises, cartables</td>\n",
       "      <td>Objet trouvé</td>\n",
       "    </tr>\n",
       "  </tbody>\n",
       "</table>\n",
       "</div>"
      ],
      "text/plain": [
       "                        Date Date et heure de restitution                Gare  \\\n",
       "0  2018-08-16T08:46:55+02:00    2018-08-16T10:52:08+02:00              Nantes   \n",
       "1  2018-08-16T08:50:34+02:00                          NaN               Redon   \n",
       "2  2018-08-16T09:11:18+02:00                          NaN             Béziers   \n",
       "3  2018-08-16T09:19:47+02:00                          NaN              Rennes   \n",
       "4  2018-08-16T09:23:18+02:00                          NaN  Paris Montparnasse   \n",
       "\n",
       "     Code UIC                               Nature d'objets  \\\n",
       "0  87481002.0                            Téléphone portable   \n",
       "1  87471300.0                           Casque (vélo, moto)   \n",
       "2  87781005.0         Sac d'enseigne (plastique, papier, …)   \n",
       "3  87471003.0  Manteau, veste, blazer, parka, blouson, cape   \n",
       "4  87391003.0                                     Sac à dos   \n",
       "\n",
       "                                       Type d'objets Type d'enregistrement  \n",
       "0  Appareils électroniques, informatiques, appare...          Objet trouvé  \n",
       "1           Vélos, trottinettes, accessoires 2 roues          Objet trouvé  \n",
       "2                Bagagerie: sacs, valises, cartables          Objet trouvé  \n",
       "3                              Vêtements, chaussures          Objet trouvé  \n",
       "4                Bagagerie: sacs, valises, cartables          Objet trouvé  "
      ]
     },
     "execution_count": 25,
     "metadata": {},
     "output_type": "execute_result"
    }
   ],
   "source": [
    "df_objets = pd.read_csv('objets-trouves-restitution.csv',sep=';')"
   ]
  },
  {
   "cell_type": "code",
   "execution_count": null,
   "id": "00bceecc",
   "metadata": {},
   "outputs": [],
   "source": [
    "df_objets.head()"
   ]
  },
  {
   "cell_type": "raw",
   "id": "366f7785",
   "metadata": {},
   "source": [
    "Les colonnes étant séparées par l'opérateur ';' il est nécessaire de préciser en paramètres sep = ';'"
   ]
  },
  {
   "cell_type": "markdown",
   "id": "b98d231d",
   "metadata": {},
   "source": [
    "## Analyse de la base de données  "
   ]
  },
  {
   "cell_type": "markdown",
   "id": "49348cf7",
   "metadata": {},
   "source": [
    "### Informations globales"
   ]
  },
  {
   "cell_type": "code",
   "execution_count": 15,
   "id": "b97885e1",
   "metadata": {},
   "outputs": [
    {
     "name": "stdout",
     "output_type": "stream",
     "text": [
      "<class 'pandas.core.frame.DataFrame'>\n",
      "RangeIndex: 907276 entries, 0 to 907275\n",
      "Data columns (total 7 columns):\n",
      " #   Column                        Non-Null Count   Dtype  \n",
      "---  ------                        --------------   -----  \n",
      " 0   Date                          907276 non-null  object \n",
      " 1   Date et heure de restitution  350898 non-null  object \n",
      " 2   Gare                          906197 non-null  object \n",
      " 3   Code UIC                      906197 non-null  float64\n",
      " 4   Nature d'objets               907276 non-null  object \n",
      " 5   Type d'objets                 907276 non-null  object \n",
      " 6   Type d'enregistrement         907276 non-null  object \n",
      "dtypes: float64(1), object(6)\n",
      "memory usage: 48.5+ MB\n"
     ]
    }
   ],
   "source": [
    "df_objets.info()"
   ]
  },
  {
   "cell_type": "code",
   "execution_count": 27,
   "id": "f19d0ff1",
   "metadata": {},
   "outputs": [
    {
     "data": {
      "text/html": [
       "<div>\n",
       "<style scoped>\n",
       "    .dataframe tbody tr th:only-of-type {\n",
       "        vertical-align: middle;\n",
       "    }\n",
       "\n",
       "    .dataframe tbody tr th {\n",
       "        vertical-align: top;\n",
       "    }\n",
       "\n",
       "    .dataframe thead th {\n",
       "        text-align: right;\n",
       "    }\n",
       "</style>\n",
       "<table border=\"1\" class=\"dataframe\">\n",
       "  <thead>\n",
       "    <tr style=\"text-align: right;\">\n",
       "      <th></th>\n",
       "      <th>Date</th>\n",
       "      <th>Date et heure de restitution</th>\n",
       "      <th>Gare</th>\n",
       "      <th>Nature d'objets</th>\n",
       "      <th>Type d'objets</th>\n",
       "      <th>Type d'enregistrement</th>\n",
       "    </tr>\n",
       "  </thead>\n",
       "  <tbody>\n",
       "    <tr>\n",
       "      <th>count</th>\n",
       "      <td>907276</td>\n",
       "      <td>350898</td>\n",
       "      <td>906197</td>\n",
       "      <td>907276</td>\n",
       "      <td>907276</td>\n",
       "      <td>907276</td>\n",
       "    </tr>\n",
       "    <tr>\n",
       "      <th>unique</th>\n",
       "      <td>904783</td>\n",
       "      <td>350213</td>\n",
       "      <td>181</td>\n",
       "      <td>132</td>\n",
       "      <td>16</td>\n",
       "      <td>1</td>\n",
       "    </tr>\n",
       "    <tr>\n",
       "      <th>top</th>\n",
       "      <td>2017-07-04T07:29:58+02:00</td>\n",
       "      <td>2023-09-27T02:00:22+02:00</td>\n",
       "      <td>Paris Gare de Lyon</td>\n",
       "      <td>Porte-monnaie, portefeuille</td>\n",
       "      <td>Bagagerie: sacs, valises, cartables</td>\n",
       "      <td>Objet trouvé</td>\n",
       "    </tr>\n",
       "    <tr>\n",
       "      <th>freq</th>\n",
       "      <td>4</td>\n",
       "      <td>42</td>\n",
       "      <td>70984</td>\n",
       "      <td>82184</td>\n",
       "      <td>289118</td>\n",
       "      <td>907276</td>\n",
       "    </tr>\n",
       "  </tbody>\n",
       "</table>\n",
       "</div>"
      ],
      "text/plain": [
       "                             Date Date et heure de restitution  \\\n",
       "count                      907276                       350898   \n",
       "unique                     904783                       350213   \n",
       "top     2017-07-04T07:29:58+02:00    2023-09-27T02:00:22+02:00   \n",
       "freq                            4                           42   \n",
       "\n",
       "                      Gare              Nature d'objets  \\\n",
       "count               906197                       907276   \n",
       "unique                 181                          132   \n",
       "top     Paris Gare de Lyon  Porte-monnaie, portefeuille   \n",
       "freq                 70984                        82184   \n",
       "\n",
       "                              Type d'objets Type d'enregistrement  \n",
       "count                                907276                907276  \n",
       "unique                                   16                     1  \n",
       "top     Bagagerie: sacs, valises, cartables          Objet trouvé  \n",
       "freq                                 289118                907276  "
      ]
     },
     "execution_count": 27,
     "metadata": {},
     "output_type": "execute_result"
    }
   ],
   "source": [
    "df_objets.describe(include=['object'])"
   ]
  },
  {
   "cell_type": "raw",
   "id": "2310b1cd",
   "metadata": {},
   "source": [
    "La base de données contient 907 276 lignes et 7 colonnes.\n",
    "Les champs sont principalement de type 'Object', c'est à dire, une chaine de caractères type 'str'.\n",
    "Un champ de type 'float64' qui est 'Code UIC'\n",
    "\n",
    "Le fait qu'il n'y ait pas énormément de champs de type 'int' restreint l'utilisation de certains packages d'aide à la compréhension de données comme pivot_table() par exemple. \n"
   ]
  },
  {
   "cell_type": "markdown",
   "id": "87e734ba",
   "metadata": {},
   "source": [
    "### Analyse de la mémoire vive consommée "
   ]
  },
  {
   "cell_type": "code",
   "execution_count": 16,
   "id": "fc2773a4",
   "metadata": {},
   "outputs": [
    {
     "data": {
      "text/plain": [
       "50807588"
      ]
     },
     "execution_count": 16,
     "metadata": {},
     "output_type": "execute_result"
    }
   ],
   "source": [
    "df_objets.memory_usage(index=True).sum()"
   ]
  },
  {
   "cell_type": "raw",
   "id": "c2af96da",
   "metadata": {},
   "source": [
    "La base de données occupe un volume de 50 807 588 bytes soit 50MB "
   ]
  },
  {
   "cell_type": "code",
   "execution_count": 17,
   "id": "d36bf2b6",
   "metadata": {},
   "outputs": [
    {
     "data": {
      "text/plain": [
       "Date                            904783\n",
       "Date et heure de restitution    350213\n",
       "Gare                               181\n",
       "Code UIC                           181\n",
       "Nature d'objets                    132\n",
       "Type d'objets                       16\n",
       "Type d'enregistrement                1\n",
       "dtype: int64"
      ]
     },
     "execution_count": 17,
     "metadata": {},
     "output_type": "execute_result"
    }
   ],
   "source": [
    "df_objets.nunique()"
   ]
  },
  {
   "cell_type": "markdown",
   "id": "1f6359d7",
   "metadata": {},
   "source": [
    "### Analyse des doublons"
   ]
  },
  {
   "cell_type": "code",
   "execution_count": 18,
   "id": "44ebefb1",
   "metadata": {},
   "outputs": [
    {
     "name": "stdout",
     "output_type": "stream",
     "text": [
      "Nombre de doublons : 80\n"
     ]
    }
   ],
   "source": [
    "doublons = df_objets.duplicated().sum()\n",
    "\n",
    "# Affiche le nombre de doublons\n",
    "print(f\"Nombre de doublons : {doublons}\")\n",
    "\n",
    "f_objets = df_objets.drop_duplicates()"
   ]
  },
  {
   "cell_type": "raw",
   "id": "47b3f96b",
   "metadata": {},
   "source": [
    "Les doublons représentants 80 lignes sur la totalité de la dataframe c'est à dire 0.00009 % , on peut les enlever. "
   ]
  },
  {
   "cell_type": "markdown",
   "id": "76c42848",
   "metadata": {},
   "source": [
    "## Valeurs manquantes"
   ]
  },
  {
   "cell_type": "markdown",
   "id": "cbb6c69e",
   "metadata": {},
   "source": [
    "### Analyse valeurs manquantes "
   ]
  },
  {
   "cell_type": "code",
   "execution_count": 19,
   "id": "ba97f138",
   "metadata": {},
   "outputs": [
    {
     "data": {
      "text/plain": [
       "Date                                 0\n",
       "Date et heure de restitution    556378\n",
       "Gare                              1079\n",
       "Code UIC                          1079\n",
       "Nature d'objets                      0\n",
       "Type d'objets                        0\n",
       "Type d'enregistrement                0\n",
       "dtype: int64"
      ]
     },
     "execution_count": 19,
     "metadata": {},
     "output_type": "execute_result"
    }
   ],
   "source": [
    "df_objets.isna().sum()"
   ]
  },
  {
   "cell_type": "code",
   "execution_count": 20,
   "id": "5f7ab7f9",
   "metadata": {},
   "outputs": [
    {
     "data": {
      "text/plain": [
       "Date                             0.000000\n",
       "Date et heure de restitution    61.324007\n",
       "Gare                             0.118927\n",
       "Code UIC                         0.118927\n",
       "Nature d'objets                  0.000000\n",
       "Type d'objets                    0.000000\n",
       "Type d'enregistrement            0.000000\n",
       "dtype: float64"
      ]
     },
     "execution_count": 20,
     "metadata": {},
     "output_type": "execute_result"
    }
   ],
   "source": [
    "(df_objets.isna().sum()/len(df['Gare']))*100"
   ]
  },
  {
   "cell_type": "raw",
   "id": "78502f1e",
   "metadata": {},
   "source": [
    "Les valeurs manquantes sont majoritairement des données relatives à l'heure et à la date de la restitution, pourtant il y a aussi des valeurs manquantes qui concerne les gares et leurs codes UIC.\n",
    "\n",
    "61% des valeurs du champ 'Date et heure de restitution' sont manquantes\n",
    "\n",
    "Le champ semble redondant avec le champ 'Date',la seule différence est l'ajout de l'information  'heure de restitution' qui n'est pas significative. "
   ]
  },
  {
   "cell_type": "code",
   "execution_count": 21,
   "id": "69ccde38",
   "metadata": {},
   "outputs": [
    {
     "data": {
      "text/plain": [
       "Date                               0\n",
       "Date et heure de restitution     893\n",
       "Gare                            1079\n",
       "Code UIC                        1079\n",
       "Nature d'objets                    0\n",
       "Type d'objets                      0\n",
       "Type d'enregistrement              0\n",
       "dtype: int64"
      ]
     },
     "execution_count": 21,
     "metadata": {},
     "output_type": "execute_result"
    }
   ],
   "source": [
    "df_objets[df_objets['Gare'].isna()].isna().sum()"
   ]
  },
  {
   "cell_type": "raw",
   "id": "12c0185d",
   "metadata": {},
   "source": [
    "En prenant les valeurs manquantes de l'attribut 'Gare', on remarque que toutes les gares dont on ne connait pas le nom ont un code UIC inconnu ... cela peut sembler logique mais il y aurait très bien pu avoir une gare inconnue avec un UIC connu et vice versa. \n",
    "Au moins, nous sommes sûres. "
   ]
  },
  {
   "cell_type": "raw",
   "id": "4237eca1",
   "metadata": {},
   "source": [
    "Cela nous permettra par la suite d'enlever une des deux colonnes "
   ]
  },
  {
   "cell_type": "code",
   "execution_count": 30,
   "id": "476de0ba",
   "metadata": {},
   "outputs": [
    {
     "data": {
      "text/plain": [
       "Date                                 0\n",
       "Date et heure de restitution    555485\n",
       "Gare                                 0\n",
       "Code UIC                             0\n",
       "Nature d'objets                      0\n",
       "Type d'objets                        0\n",
       "Type d'enregistrement                0\n",
       "dtype: int64"
      ]
     },
     "execution_count": 30,
     "metadata": {},
     "output_type": "execute_result"
    }
   ],
   "source": [
    "df_objets = df_objets[df_objets['Gare'].notna()]\n",
    "\n"
   ]
  },
  {
   "cell_type": "code",
   "execution_count": 32,
   "id": "341370f2",
   "metadata": {},
   "outputs": [
    {
     "data": {
      "text/html": [
       "<div>\n",
       "<style scoped>\n",
       "    .dataframe tbody tr th:only-of-type {\n",
       "        vertical-align: middle;\n",
       "    }\n",
       "\n",
       "    .dataframe tbody tr th {\n",
       "        vertical-align: top;\n",
       "    }\n",
       "\n",
       "    .dataframe thead th {\n",
       "        text-align: right;\n",
       "    }\n",
       "</style>\n",
       "<table border=\"1\" class=\"dataframe\">\n",
       "  <thead>\n",
       "    <tr style=\"text-align: right;\">\n",
       "      <th></th>\n",
       "      <th>Date</th>\n",
       "      <th>Date et heure de restitution</th>\n",
       "      <th>Gare</th>\n",
       "      <th>Code UIC</th>\n",
       "      <th>Nature d'objets</th>\n",
       "      <th>Type d'objets</th>\n",
       "    </tr>\n",
       "  </thead>\n",
       "  <tbody>\n",
       "    <tr>\n",
       "      <th>0</th>\n",
       "      <td>2018-08-16T08:46:55+02:00</td>\n",
       "      <td>2018-08-16T10:52:08+02:00</td>\n",
       "      <td>Nantes</td>\n",
       "      <td>87481002.0</td>\n",
       "      <td>Téléphone portable</td>\n",
       "      <td>Appareils électroniques, informatiques, appare...</td>\n",
       "    </tr>\n",
       "    <tr>\n",
       "      <th>1</th>\n",
       "      <td>2018-08-16T08:50:34+02:00</td>\n",
       "      <td>NaN</td>\n",
       "      <td>Redon</td>\n",
       "      <td>87471300.0</td>\n",
       "      <td>Casque (vélo, moto)</td>\n",
       "      <td>Vélos, trottinettes, accessoires 2 roues</td>\n",
       "    </tr>\n",
       "    <tr>\n",
       "      <th>2</th>\n",
       "      <td>2018-08-16T09:11:18+02:00</td>\n",
       "      <td>NaN</td>\n",
       "      <td>Béziers</td>\n",
       "      <td>87781005.0</td>\n",
       "      <td>Sac d'enseigne (plastique, papier, …)</td>\n",
       "      <td>Bagagerie: sacs, valises, cartables</td>\n",
       "    </tr>\n",
       "    <tr>\n",
       "      <th>3</th>\n",
       "      <td>2018-08-16T09:19:47+02:00</td>\n",
       "      <td>NaN</td>\n",
       "      <td>Rennes</td>\n",
       "      <td>87471003.0</td>\n",
       "      <td>Manteau, veste, blazer, parka, blouson, cape</td>\n",
       "      <td>Vêtements, chaussures</td>\n",
       "    </tr>\n",
       "    <tr>\n",
       "      <th>4</th>\n",
       "      <td>2018-08-16T09:23:18+02:00</td>\n",
       "      <td>NaN</td>\n",
       "      <td>Paris Montparnasse</td>\n",
       "      <td>87391003.0</td>\n",
       "      <td>Sac à dos</td>\n",
       "      <td>Bagagerie: sacs, valises, cartables</td>\n",
       "    </tr>\n",
       "    <tr>\n",
       "      <th>...</th>\n",
       "      <td>...</td>\n",
       "      <td>...</td>\n",
       "      <td>...</td>\n",
       "      <td>...</td>\n",
       "      <td>...</td>\n",
       "      <td>...</td>\n",
       "    </tr>\n",
       "    <tr>\n",
       "      <th>907270</th>\n",
       "      <td>2024-08-30T21:13:31+02:00</td>\n",
       "      <td>NaN</td>\n",
       "      <td>Nîmes</td>\n",
       "      <td>87775007.0</td>\n",
       "      <td>Téléphone portable protégé (étui, coque,…)</td>\n",
       "      <td>Appareils électroniques, informatiques, appare...</td>\n",
       "    </tr>\n",
       "    <tr>\n",
       "      <th>907271</th>\n",
       "      <td>2024-08-30T19:59:22+02:00</td>\n",
       "      <td>2024-09-04T12:34:26+02:00</td>\n",
       "      <td>Strasbourg</td>\n",
       "      <td>87212027.0</td>\n",
       "      <td>Valise, sac sur roulettes</td>\n",
       "      <td>Bagagerie: sacs, valises, cartables</td>\n",
       "    </tr>\n",
       "    <tr>\n",
       "      <th>907272</th>\n",
       "      <td>2024-08-30T20:55:27+02:00</td>\n",
       "      <td>2024-09-05T12:49:08+02:00</td>\n",
       "      <td>Lille Europe</td>\n",
       "      <td>87223263.0</td>\n",
       "      <td>Valise, sac sur roulettes</td>\n",
       "      <td>Bagagerie: sacs, valises, cartables</td>\n",
       "    </tr>\n",
       "    <tr>\n",
       "      <th>907273</th>\n",
       "      <td>2024-08-30T23:23:44+02:00</td>\n",
       "      <td>NaN</td>\n",
       "      <td>Nîmes</td>\n",
       "      <td>87775007.0</td>\n",
       "      <td>Sac à dos</td>\n",
       "      <td>Bagagerie: sacs, valises, cartables</td>\n",
       "    </tr>\n",
       "    <tr>\n",
       "      <th>907274</th>\n",
       "      <td>2024-08-30T23:36:00+02:00</td>\n",
       "      <td>2024-08-31T12:43:30+02:00</td>\n",
       "      <td>Nice</td>\n",
       "      <td>87756056.0</td>\n",
       "      <td>Ordinateur, ordinateur portable, notebook prot...</td>\n",
       "      <td>Appareils électroniques, informatiques, appare...</td>\n",
       "    </tr>\n",
       "  </tbody>\n",
       "</table>\n",
       "<p>906197 rows × 6 columns</p>\n",
       "</div>"
      ],
      "text/plain": [
       "                             Date Date et heure de restitution  \\\n",
       "0       2018-08-16T08:46:55+02:00    2018-08-16T10:52:08+02:00   \n",
       "1       2018-08-16T08:50:34+02:00                          NaN   \n",
       "2       2018-08-16T09:11:18+02:00                          NaN   \n",
       "3       2018-08-16T09:19:47+02:00                          NaN   \n",
       "4       2018-08-16T09:23:18+02:00                          NaN   \n",
       "...                           ...                          ...   \n",
       "907270  2024-08-30T21:13:31+02:00                          NaN   \n",
       "907271  2024-08-30T19:59:22+02:00    2024-09-04T12:34:26+02:00   \n",
       "907272  2024-08-30T20:55:27+02:00    2024-09-05T12:49:08+02:00   \n",
       "907273  2024-08-30T23:23:44+02:00                          NaN   \n",
       "907274  2024-08-30T23:36:00+02:00    2024-08-31T12:43:30+02:00   \n",
       "\n",
       "                      Gare    Code UIC  \\\n",
       "0                   Nantes  87481002.0   \n",
       "1                    Redon  87471300.0   \n",
       "2                  Béziers  87781005.0   \n",
       "3                   Rennes  87471003.0   \n",
       "4       Paris Montparnasse  87391003.0   \n",
       "...                    ...         ...   \n",
       "907270               Nîmes  87775007.0   \n",
       "907271          Strasbourg  87212027.0   \n",
       "907272        Lille Europe  87223263.0   \n",
       "907273               Nîmes  87775007.0   \n",
       "907274                Nice  87756056.0   \n",
       "\n",
       "                                          Nature d'objets  \\\n",
       "0                                      Téléphone portable   \n",
       "1                                     Casque (vélo, moto)   \n",
       "2                   Sac d'enseigne (plastique, papier, …)   \n",
       "3            Manteau, veste, blazer, parka, blouson, cape   \n",
       "4                                               Sac à dos   \n",
       "...                                                   ...   \n",
       "907270         Téléphone portable protégé (étui, coque,…)   \n",
       "907271                          Valise, sac sur roulettes   \n",
       "907272                          Valise, sac sur roulettes   \n",
       "907273                                          Sac à dos   \n",
       "907274  Ordinateur, ordinateur portable, notebook prot...   \n",
       "\n",
       "                                            Type d'objets  \n",
       "0       Appareils électroniques, informatiques, appare...  \n",
       "1                Vélos, trottinettes, accessoires 2 roues  \n",
       "2                     Bagagerie: sacs, valises, cartables  \n",
       "3                                   Vêtements, chaussures  \n",
       "4                     Bagagerie: sacs, valises, cartables  \n",
       "...                                                   ...  \n",
       "907270  Appareils électroniques, informatiques, appare...  \n",
       "907271                Bagagerie: sacs, valises, cartables  \n",
       "907272                Bagagerie: sacs, valises, cartables  \n",
       "907273                Bagagerie: sacs, valises, cartables  \n",
       "907274  Appareils électroniques, informatiques, appare...  \n",
       "\n",
       "[906197 rows x 6 columns]"
      ]
     },
     "execution_count": 32,
     "metadata": {},
     "output_type": "execute_result"
    }
   ],
   "source": [
    "df_objets = df_objets.drop(columns=['Type d\\'enregistrement'])"
   ]
  },
  {
   "cell_type": "markdown",
   "id": "8dff771c",
   "metadata": {},
   "source": [
    "### Traitement des valeurs manquantes "
   ]
  },
  {
   "cell_type": "code",
   "execution_count": 33,
   "id": "a9c71fed",
   "metadata": {},
   "outputs": [
    {
     "name": "stdout",
     "output_type": "stream",
     "text": [
      "Chaque Gare a un unique Code UIC.\n",
      "Chaque Code UIC correspond à une unique Gare.\n"
     ]
    }
   ],
   "source": [
    "# Vérifie si chaque Gare a un unique Code UIC\n",
    "gare_unique_uic = df_objets.groupby(\"Gare\")[\"Code UIC\"].nunique()\n",
    "gare_incorrecte = gare_unique_uic[gare_unique_uic > 1]\n",
    "\n",
    "# Vérifie si chaque Code UIC correspond à une unique Gare\n",
    "uic_unique_gare = df_objets.groupby(\"Code UIC\")[\"Gare\"].nunique()\n",
    "uic_incorrect = uic_unique_gare[uic_unique_gare > 1]\n",
    "\n",
    "# Affiche les résultats\n",
    "if not gare_incorrecte.empty:\n",
    "    print(\"Incohérences trouvées pour les Gares avec plusieurs Codes UIC:\")\n",
    "    print(gare_incorrecte)\n",
    "else:\n",
    "    print(\"Chaque Gare a un unique Code UIC.\")\n",
    "\n",
    "if not uic_incorrect.empty:\n",
    "    print(\"Incohérences trouvées pour les Codes UIC avec plusieurs Gares:\")\n",
    "    print(uic_incorrect)\n",
    "else:\n",
    "    print(\"Chaque Code UIC correspond à une unique Gare.\")"
   ]
  },
  {
   "cell_type": "raw",
   "id": "009d677e",
   "metadata": {},
   "source": []
  },
  {
   "cell_type": "code",
   "execution_count": 34,
   "id": "2ea72fdf",
   "metadata": {},
   "outputs": [
    {
     "data": {
      "text/html": [
       "<div>\n",
       "<style scoped>\n",
       "    .dataframe tbody tr th:only-of-type {\n",
       "        vertical-align: middle;\n",
       "    }\n",
       "\n",
       "    .dataframe tbody tr th {\n",
       "        vertical-align: top;\n",
       "    }\n",
       "\n",
       "    .dataframe thead th {\n",
       "        text-align: right;\n",
       "    }\n",
       "</style>\n",
       "<table border=\"1\" class=\"dataframe\">\n",
       "  <thead>\n",
       "    <tr style=\"text-align: right;\">\n",
       "      <th></th>\n",
       "      <th>Date</th>\n",
       "      <th>Date et heure de restitution</th>\n",
       "      <th>Gare</th>\n",
       "      <th>Nature d'objets</th>\n",
       "      <th>Type d'objets</th>\n",
       "    </tr>\n",
       "  </thead>\n",
       "  <tbody>\n",
       "    <tr>\n",
       "      <th>0</th>\n",
       "      <td>2018-08-16T08:46:55+02:00</td>\n",
       "      <td>2018-08-16T10:52:08+02:00</td>\n",
       "      <td>Nantes</td>\n",
       "      <td>Téléphone portable</td>\n",
       "      <td>Appareils électroniques, informatiques, appare...</td>\n",
       "    </tr>\n",
       "  </tbody>\n",
       "</table>\n",
       "</div>"
      ],
      "text/plain": [
       "                        Date Date et heure de restitution    Gare  \\\n",
       "0  2018-08-16T08:46:55+02:00    2018-08-16T10:52:08+02:00  Nantes   \n",
       "\n",
       "      Nature d'objets                                      Type d'objets  \n",
       "0  Téléphone portable  Appareils électroniques, informatiques, appare...  "
      ]
     },
     "execution_count": 34,
     "metadata": {},
     "output_type": "execute_result"
    }
   ],
   "source": [
    "df_objets = df_objets.drop(columns=[\"Code UIC\"])"
   ]
  },
  {
   "cell_type": "code",
   "execution_count": 35,
   "id": "d2396d74",
   "metadata": {},
   "outputs": [
    {
     "data": {
      "text/html": [
       "<div>\n",
       "<style scoped>\n",
       "    .dataframe tbody tr th:only-of-type {\n",
       "        vertical-align: middle;\n",
       "    }\n",
       "\n",
       "    .dataframe tbody tr th {\n",
       "        vertical-align: top;\n",
       "    }\n",
       "\n",
       "    .dataframe thead th {\n",
       "        text-align: right;\n",
       "    }\n",
       "</style>\n",
       "<table border=\"1\" class=\"dataframe\">\n",
       "  <thead>\n",
       "    <tr style=\"text-align: right;\">\n",
       "      <th></th>\n",
       "      <th>Date</th>\n",
       "      <th>Date et heure de restitution</th>\n",
       "      <th>Gare</th>\n",
       "      <th>Nature d'objets</th>\n",
       "      <th>Type d'objets</th>\n",
       "    </tr>\n",
       "  </thead>\n",
       "  <tbody>\n",
       "    <tr>\n",
       "      <th>0</th>\n",
       "      <td>2018-08-16T08:46:55+02:00</td>\n",
       "      <td>2018-08-16T10:52:08+02:00</td>\n",
       "      <td>Nantes</td>\n",
       "      <td>Téléphone portable</td>\n",
       "      <td>Appareils électroniques, informatiques, appare...</td>\n",
       "    </tr>\n",
       "    <tr>\n",
       "      <th>1</th>\n",
       "      <td>2018-08-16T08:50:34+02:00</td>\n",
       "      <td>NaN</td>\n",
       "      <td>Redon</td>\n",
       "      <td>Casque (vélo, moto)</td>\n",
       "      <td>Vélos, trottinettes, accessoires 2 roues</td>\n",
       "    </tr>\n",
       "    <tr>\n",
       "      <th>2</th>\n",
       "      <td>2018-08-16T09:11:18+02:00</td>\n",
       "      <td>NaN</td>\n",
       "      <td>Béziers</td>\n",
       "      <td>Sac d'enseigne (plastique, papier, …)</td>\n",
       "      <td>Bagagerie: sacs, valises, cartables</td>\n",
       "    </tr>\n",
       "    <tr>\n",
       "      <th>3</th>\n",
       "      <td>2018-08-16T09:19:47+02:00</td>\n",
       "      <td>NaN</td>\n",
       "      <td>Rennes</td>\n",
       "      <td>Manteau, veste, blazer, parka, blouson, cape</td>\n",
       "      <td>Vêtements, chaussures</td>\n",
       "    </tr>\n",
       "    <tr>\n",
       "      <th>4</th>\n",
       "      <td>2018-08-16T09:23:18+02:00</td>\n",
       "      <td>NaN</td>\n",
       "      <td>Paris Montparnasse</td>\n",
       "      <td>Sac à dos</td>\n",
       "      <td>Bagagerie: sacs, valises, cartables</td>\n",
       "    </tr>\n",
       "    <tr>\n",
       "      <th>...</th>\n",
       "      <td>...</td>\n",
       "      <td>...</td>\n",
       "      <td>...</td>\n",
       "      <td>...</td>\n",
       "      <td>...</td>\n",
       "    </tr>\n",
       "    <tr>\n",
       "      <th>907270</th>\n",
       "      <td>2024-08-30T21:13:31+02:00</td>\n",
       "      <td>NaN</td>\n",
       "      <td>Nîmes</td>\n",
       "      <td>Téléphone portable protégé (étui, coque,…)</td>\n",
       "      <td>Appareils électroniques, informatiques, appare...</td>\n",
       "    </tr>\n",
       "    <tr>\n",
       "      <th>907271</th>\n",
       "      <td>2024-08-30T19:59:22+02:00</td>\n",
       "      <td>2024-09-04T12:34:26+02:00</td>\n",
       "      <td>Strasbourg</td>\n",
       "      <td>Valise, sac sur roulettes</td>\n",
       "      <td>Bagagerie: sacs, valises, cartables</td>\n",
       "    </tr>\n",
       "    <tr>\n",
       "      <th>907272</th>\n",
       "      <td>2024-08-30T20:55:27+02:00</td>\n",
       "      <td>2024-09-05T12:49:08+02:00</td>\n",
       "      <td>Lille Europe</td>\n",
       "      <td>Valise, sac sur roulettes</td>\n",
       "      <td>Bagagerie: sacs, valises, cartables</td>\n",
       "    </tr>\n",
       "    <tr>\n",
       "      <th>907273</th>\n",
       "      <td>2024-08-30T23:23:44+02:00</td>\n",
       "      <td>NaN</td>\n",
       "      <td>Nîmes</td>\n",
       "      <td>Sac à dos</td>\n",
       "      <td>Bagagerie: sacs, valises, cartables</td>\n",
       "    </tr>\n",
       "    <tr>\n",
       "      <th>907274</th>\n",
       "      <td>2024-08-30T23:36:00+02:00</td>\n",
       "      <td>2024-08-31T12:43:30+02:00</td>\n",
       "      <td>Nice</td>\n",
       "      <td>Ordinateur, ordinateur portable, notebook prot...</td>\n",
       "      <td>Appareils électroniques, informatiques, appare...</td>\n",
       "    </tr>\n",
       "  </tbody>\n",
       "</table>\n",
       "<p>906197 rows × 5 columns</p>\n",
       "</div>"
      ],
      "text/plain": [
       "                             Date Date et heure de restitution  \\\n",
       "0       2018-08-16T08:46:55+02:00    2018-08-16T10:52:08+02:00   \n",
       "1       2018-08-16T08:50:34+02:00                          NaN   \n",
       "2       2018-08-16T09:11:18+02:00                          NaN   \n",
       "3       2018-08-16T09:19:47+02:00                          NaN   \n",
       "4       2018-08-16T09:23:18+02:00                          NaN   \n",
       "...                           ...                          ...   \n",
       "907270  2024-08-30T21:13:31+02:00                          NaN   \n",
       "907271  2024-08-30T19:59:22+02:00    2024-09-04T12:34:26+02:00   \n",
       "907272  2024-08-30T20:55:27+02:00    2024-09-05T12:49:08+02:00   \n",
       "907273  2024-08-30T23:23:44+02:00                          NaN   \n",
       "907274  2024-08-30T23:36:00+02:00    2024-08-31T12:43:30+02:00   \n",
       "\n",
       "                      Gare                                    Nature d'objets  \\\n",
       "0                   Nantes                                 Téléphone portable   \n",
       "1                    Redon                                Casque (vélo, moto)   \n",
       "2                  Béziers              Sac d'enseigne (plastique, papier, …)   \n",
       "3                   Rennes       Manteau, veste, blazer, parka, blouson, cape   \n",
       "4       Paris Montparnasse                                          Sac à dos   \n",
       "...                    ...                                                ...   \n",
       "907270               Nîmes         Téléphone portable protégé (étui, coque,…)   \n",
       "907271          Strasbourg                          Valise, sac sur roulettes   \n",
       "907272        Lille Europe                          Valise, sac sur roulettes   \n",
       "907273               Nîmes                                          Sac à dos   \n",
       "907274                Nice  Ordinateur, ordinateur portable, notebook prot...   \n",
       "\n",
       "                                            Type d'objets  \n",
       "0       Appareils électroniques, informatiques, appare...  \n",
       "1                Vélos, trottinettes, accessoires 2 roues  \n",
       "2                     Bagagerie: sacs, valises, cartables  \n",
       "3                                   Vêtements, chaussures  \n",
       "4                     Bagagerie: sacs, valises, cartables  \n",
       "...                                                   ...  \n",
       "907270  Appareils électroniques, informatiques, appare...  \n",
       "907271                Bagagerie: sacs, valises, cartables  \n",
       "907272                Bagagerie: sacs, valises, cartables  \n",
       "907273                Bagagerie: sacs, valises, cartables  \n",
       "907274  Appareils électroniques, informatiques, appare...  \n",
       "\n",
       "[906197 rows x 5 columns]"
      ]
     },
     "execution_count": 35,
     "metadata": {},
     "output_type": "execute_result"
    }
   ],
   "source": [
    "df_objets"
   ]
  },
  {
   "cell_type": "code",
   "execution_count": null,
   "id": "8df0a18a",
   "metadata": {},
   "outputs": [],
   "source": []
  },
  {
   "cell_type": "markdown",
   "id": "e750af38",
   "metadata": {},
   "source": [
    "### Traitement des dates "
   ]
  },
  {
   "cell_type": "code",
   "execution_count": 36,
   "id": "86dad6ee",
   "metadata": {},
   "outputs": [
    {
     "name": "stdout",
     "output_type": "stream",
     "text": [
      "Toutes les valeurs valides de 'Date et heure de restitution' sont après 'Date'.\n"
     ]
    }
   ],
   "source": [
    "# Convertir les colonnes 'Date' et 'Date et heure de restitution' au format datetime avec UTC\n",
    "df_objets['Date'] = pd.to_datetime(df_objets['Date'], utc=True)\n",
    "df_objets['Date et heure de restitution'] = pd.to_datetime(df_objets['Date et heure de restitution'], utc=True)\n",
    "\n",
    "# Filtrer les lignes où 'Date et heure de restitution' n'est pas NaT\n",
    "valid_dates = df_objets['Date et heure de restitution'].notna()\n",
    "\n",
    "# Vérifier que 'Date et heure de restitution' est après 'Date' uniquement pour les lignes valides\n",
    "date_check = df_objets.loc[valid_dates, 'Date et heure de restitution'] > df_objets.loc[valid_dates, 'Date']\n",
    "\n",
    "# Afficher le résultat\n",
    "if date_check.all():\n",
    "    print(\"Toutes les valeurs valides de 'Date et heure de restitution' sont après 'Date'.\")\n",
    "else:\n",
    "    print(\"Certaines valeurs valides de 'Date et heure de restitution' ne sont pas après 'Date'.\")\n",
    "    print(df_objets.loc[valid_dates & ~date_check, ['Date', 'Date et heure de restitution']])"
   ]
  },
  {
   "cell_type": "code",
   "execution_count": null,
   "id": "ac201579",
   "metadata": {},
   "outputs": [],
   "source": []
  },
  {
   "cell_type": "markdown",
   "id": "90678bc5",
   "metadata": {},
   "source": [
    "## Échantillonnage "
   ]
  },
  {
   "cell_type": "code",
   "execution_count": 50,
   "id": "7fa5b693",
   "metadata": {},
   "outputs": [],
   "source": [
    "np.random.seed(345)\n"
   ]
  },
  {
   "cell_type": "code",
   "execution_count": 56,
   "id": "07ba1fc7",
   "metadata": {},
   "outputs": [
    {
     "data": {
      "text/html": [
       "<div>\n",
       "<style scoped>\n",
       "    .dataframe tbody tr th:only-of-type {\n",
       "        vertical-align: middle;\n",
       "    }\n",
       "\n",
       "    .dataframe tbody tr th {\n",
       "        vertical-align: top;\n",
       "    }\n",
       "\n",
       "    .dataframe thead th {\n",
       "        text-align: right;\n",
       "    }\n",
       "</style>\n",
       "<table border=\"1\" class=\"dataframe\">\n",
       "  <thead>\n",
       "    <tr style=\"text-align: right;\">\n",
       "      <th></th>\n",
       "      <th>Date</th>\n",
       "      <th>Date et heure de restitution</th>\n",
       "      <th>Gare</th>\n",
       "      <th>Nature d'objets</th>\n",
       "      <th>Type d'objets</th>\n",
       "    </tr>\n",
       "  </thead>\n",
       "  <tbody>\n",
       "    <tr>\n",
       "      <th>0</th>\n",
       "      <td>2018-08-07 13:24:36+00:00</td>\n",
       "      <td>NaT</td>\n",
       "      <td>Montpellier Saint-Roch</td>\n",
       "      <td>Billets SNCF</td>\n",
       "      <td>Pièces d'identités et papiers personnels</td>\n",
       "    </tr>\n",
       "    <tr>\n",
       "      <th>1</th>\n",
       "      <td>2019-07-03 11:33:14+00:00</td>\n",
       "      <td>NaT</td>\n",
       "      <td>Rennes</td>\n",
       "      <td>Valise, sac sur roulettes</td>\n",
       "      <td>Bagagerie: sacs, valises, cartables</td>\n",
       "    </tr>\n",
       "    <tr>\n",
       "      <th>2</th>\n",
       "      <td>2021-06-25 16:32:18+00:00</td>\n",
       "      <td>2021-06-29 14:49:47+00:00</td>\n",
       "      <td>Montpellier Saint-Roch</td>\n",
       "      <td>Porte-monnaie, portefeuille</td>\n",
       "      <td>Porte-monnaie / portefeuille, argent, titres</td>\n",
       "    </tr>\n",
       "    <tr>\n",
       "      <th>3</th>\n",
       "      <td>2020-07-29 14:42:17+00:00</td>\n",
       "      <td>NaT</td>\n",
       "      <td>Lyon Perrache</td>\n",
       "      <td>Porte-monnaie, portefeuille</td>\n",
       "      <td>Porte-monnaie / portefeuille, argent, titres</td>\n",
       "    </tr>\n",
       "    <tr>\n",
       "      <th>4</th>\n",
       "      <td>2023-06-14 18:21:48+00:00</td>\n",
       "      <td>2023-08-11 12:22:20+00:00</td>\n",
       "      <td>Mantes-la-Jolie</td>\n",
       "      <td>Carte de crédit</td>\n",
       "      <td>Porte-monnaie / portefeuille, argent, titres</td>\n",
       "    </tr>\n",
       "    <tr>\n",
       "      <th>...</th>\n",
       "      <td>...</td>\n",
       "      <td>...</td>\n",
       "      <td>...</td>\n",
       "      <td>...</td>\n",
       "      <td>...</td>\n",
       "    </tr>\n",
       "    <tr>\n",
       "      <th>99995</th>\n",
       "      <td>2015-09-21 18:42:08+00:00</td>\n",
       "      <td>NaT</td>\n",
       "      <td>Paris Gare du Nord</td>\n",
       "      <td>Manteau, veste, blazer, parka, blouson, cape</td>\n",
       "      <td>Vêtements, chaussures</td>\n",
       "    </tr>\n",
       "    <tr>\n",
       "      <th>99996</th>\n",
       "      <td>2014-09-06 09:44:14+00:00</td>\n",
       "      <td>NaT</td>\n",
       "      <td>Caen</td>\n",
       "      <td>Porte-monnaie, portefeuille</td>\n",
       "      <td>Porte-monnaie / portefeuille, argent, titres</td>\n",
       "    </tr>\n",
       "    <tr>\n",
       "      <th>99997</th>\n",
       "      <td>2020-10-06 12:36:19+00:00</td>\n",
       "      <td>NaT</td>\n",
       "      <td>Paris Gare de Lyon</td>\n",
       "      <td>Valise, sac sur roulettes</td>\n",
       "      <td>Bagagerie: sacs, valises, cartables</td>\n",
       "    </tr>\n",
       "    <tr>\n",
       "      <th>99998</th>\n",
       "      <td>2016-06-20 11:45:39+00:00</td>\n",
       "      <td>NaT</td>\n",
       "      <td>Nancy</td>\n",
       "      <td>Clés, porte-clés</td>\n",
       "      <td>Clés, porte-clés, badge magnétique</td>\n",
       "    </tr>\n",
       "    <tr>\n",
       "      <th>99999</th>\n",
       "      <td>2018-05-02 12:25:11+00:00</td>\n",
       "      <td>2018-05-22 14:44:10+00:00</td>\n",
       "      <td>Lyon Part Dieu</td>\n",
       "      <td>Sac à dos</td>\n",
       "      <td>Bagagerie: sacs, valises, cartables</td>\n",
       "    </tr>\n",
       "  </tbody>\n",
       "</table>\n",
       "<p>100000 rows × 5 columns</p>\n",
       "</div>"
      ],
      "text/plain": [
       "                           Date Date et heure de restitution  \\\n",
       "0     2018-08-07 13:24:36+00:00                          NaT   \n",
       "1     2019-07-03 11:33:14+00:00                          NaT   \n",
       "2     2021-06-25 16:32:18+00:00    2021-06-29 14:49:47+00:00   \n",
       "3     2020-07-29 14:42:17+00:00                          NaT   \n",
       "4     2023-06-14 18:21:48+00:00    2023-08-11 12:22:20+00:00   \n",
       "...                         ...                          ...   \n",
       "99995 2015-09-21 18:42:08+00:00                          NaT   \n",
       "99996 2014-09-06 09:44:14+00:00                          NaT   \n",
       "99997 2020-10-06 12:36:19+00:00                          NaT   \n",
       "99998 2016-06-20 11:45:39+00:00                          NaT   \n",
       "99999 2018-05-02 12:25:11+00:00    2018-05-22 14:44:10+00:00   \n",
       "\n",
       "                         Gare                               Nature d'objets  \\\n",
       "0      Montpellier Saint-Roch                                  Billets SNCF   \n",
       "1                      Rennes                     Valise, sac sur roulettes   \n",
       "2      Montpellier Saint-Roch                   Porte-monnaie, portefeuille   \n",
       "3               Lyon Perrache                   Porte-monnaie, portefeuille   \n",
       "4             Mantes-la-Jolie                               Carte de crédit   \n",
       "...                       ...                                           ...   \n",
       "99995      Paris Gare du Nord  Manteau, veste, blazer, parka, blouson, cape   \n",
       "99996                    Caen                   Porte-monnaie, portefeuille   \n",
       "99997      Paris Gare de Lyon                     Valise, sac sur roulettes   \n",
       "99998                   Nancy                              Clés, porte-clés   \n",
       "99999          Lyon Part Dieu                                     Sac à dos   \n",
       "\n",
       "                                      Type d'objets  \n",
       "0          Pièces d'identités et papiers personnels  \n",
       "1               Bagagerie: sacs, valises, cartables  \n",
       "2      Porte-monnaie / portefeuille, argent, titres  \n",
       "3      Porte-monnaie / portefeuille, argent, titres  \n",
       "4      Porte-monnaie / portefeuille, argent, titres  \n",
       "...                                             ...  \n",
       "99995                         Vêtements, chaussures  \n",
       "99996  Porte-monnaie / portefeuille, argent, titres  \n",
       "99997           Bagagerie: sacs, valises, cartables  \n",
       "99998            Clés, porte-clés, badge magnétique  \n",
       "99999           Bagagerie: sacs, valises, cartables  \n",
       "\n",
       "[100000 rows x 5 columns]"
      ]
     },
     "execution_count": 56,
     "metadata": {},
     "output_type": "execute_result"
    }
   ],
   "source": [
    "df_echan = df_objets.sample(n=100000,random_state=345).reset_index(drop=True)\n",
    "\n",
    "df_echan"
   ]
  },
  {
   "cell_type": "code",
   "execution_count": 73,
   "id": "1dfe38ed",
   "metadata": {},
   "outputs": [],
   "source": [
    "a = df_echan.groupby('Type d\\'objets').count().sort_values(by='Nature d\\'objets',ascending =False).head(10)"
   ]
  },
  {
   "cell_type": "raw",
   "id": "727dffe1",
   "metadata": {},
   "source": [
    "Les 10 types objets les plus trouvés sont les {'Bagagerie sacs, valises, cartables','Appareils électroniques, informatiques, appareils photo','Vêtements, chaussures','Porte-monnaie/portefeuille, argent, titres',....} "
   ]
  },
  {
   "cell_type": "code",
   "execution_count": 74,
   "id": "2a31fa75",
   "metadata": {},
   "outputs": [],
   "source": [
    "b = df_echan[df_echan['Date et heure de restitution'].notna()].groupby('Type d\\'objets').count().sort_values(by='Nature d\\'objets',ascending =False).head(10)\n"
   ]
  },
  {
   "cell_type": "raw",
   "id": "7c7ecf0f",
   "metadata": {},
   "source": [
    "Les objets les plus restitués restent les objets liés à la bagagerie, les vêtements,chaussures perdent une place "
   ]
  },
  {
   "cell_type": "code",
   "execution_count": 78,
   "id": "bff067f6",
   "metadata": {},
   "outputs": [
    {
     "data": {
      "text/html": [
       "<div>\n",
       "<style scoped>\n",
       "    .dataframe tbody tr th:only-of-type {\n",
       "        vertical-align: middle;\n",
       "    }\n",
       "\n",
       "    .dataframe tbody tr th {\n",
       "        vertical-align: top;\n",
       "    }\n",
       "\n",
       "    .dataframe thead th {\n",
       "        text-align: right;\n",
       "    }\n",
       "</style>\n",
       "<table border=\"1\" class=\"dataframe\">\n",
       "  <thead>\n",
       "    <tr style=\"text-align: right;\">\n",
       "      <th></th>\n",
       "      <th>Date</th>\n",
       "      <th>Date et heure de restitution</th>\n",
       "      <th>Gare</th>\n",
       "      <th>Nature d'objets</th>\n",
       "      <th>test</th>\n",
       "      <th>% objets perdus</th>\n",
       "    </tr>\n",
       "    <tr>\n",
       "      <th>Type d'objets</th>\n",
       "      <th></th>\n",
       "      <th></th>\n",
       "      <th></th>\n",
       "      <th></th>\n",
       "      <th></th>\n",
       "      <th></th>\n",
       "    </tr>\n",
       "  </thead>\n",
       "  <tbody>\n",
       "    <tr>\n",
       "      <th>Bagagerie: sacs, valises, cartables</th>\n",
       "      <td>31633</td>\n",
       "      <td>17032</td>\n",
       "      <td>31633</td>\n",
       "      <td>31633</td>\n",
       "      <td>46.157494</td>\n",
       "      <td>46.0</td>\n",
       "    </tr>\n",
       "    <tr>\n",
       "      <th>Appareils électroniques, informatiques, appareils photo</th>\n",
       "      <td>15391</td>\n",
       "      <td>6977</td>\n",
       "      <td>15391</td>\n",
       "      <td>15391</td>\n",
       "      <td>54.668313</td>\n",
       "      <td>55.0</td>\n",
       "    </tr>\n",
       "    <tr>\n",
       "      <th>Vêtements, chaussures</th>\n",
       "      <td>12552</td>\n",
       "      <td>2394</td>\n",
       "      <td>12552</td>\n",
       "      <td>12552</td>\n",
       "      <td>80.927342</td>\n",
       "      <td>81.0</td>\n",
       "    </tr>\n",
       "    <tr>\n",
       "      <th>Porte-monnaie / portefeuille, argent, titres</th>\n",
       "      <td>11613</td>\n",
       "      <td>6069</td>\n",
       "      <td>11613</td>\n",
       "      <td>11613</td>\n",
       "      <td>47.739602</td>\n",
       "      <td>48.0</td>\n",
       "    </tr>\n",
       "    <tr>\n",
       "      <th>Pièces d'identités et papiers personnels</th>\n",
       "      <td>8157</td>\n",
       "      <td>2398</td>\n",
       "      <td>8157</td>\n",
       "      <td>8157</td>\n",
       "      <td>70.601937</td>\n",
       "      <td>71.0</td>\n",
       "    </tr>\n",
       "    <tr>\n",
       "      <th>Optique</th>\n",
       "      <td>5202</td>\n",
       "      <td>617</td>\n",
       "      <td>5202</td>\n",
       "      <td>5202</td>\n",
       "      <td>88.139177</td>\n",
       "      <td>88.0</td>\n",
       "    </tr>\n",
       "    <tr>\n",
       "      <th>Clés, porte-clés, badge magnétique</th>\n",
       "      <td>4271</td>\n",
       "      <td>785</td>\n",
       "      <td>4271</td>\n",
       "      <td>4271</td>\n",
       "      <td>81.620229</td>\n",
       "      <td>82.0</td>\n",
       "    </tr>\n",
       "    <tr>\n",
       "      <th>Livres, articles de papéterie</th>\n",
       "      <td>2201</td>\n",
       "      <td>530</td>\n",
       "      <td>2201</td>\n",
       "      <td>2201</td>\n",
       "      <td>75.920036</td>\n",
       "      <td>76.0</td>\n",
       "    </tr>\n",
       "    <tr>\n",
       "      <th>Divers</th>\n",
       "      <td>2195</td>\n",
       "      <td>462</td>\n",
       "      <td>2195</td>\n",
       "      <td>2195</td>\n",
       "      <td>78.952164</td>\n",
       "      <td>79.0</td>\n",
       "    </tr>\n",
       "    <tr>\n",
       "      <th>Vélos, trottinettes, accessoires 2 roues</th>\n",
       "      <td>1545</td>\n",
       "      <td>496</td>\n",
       "      <td>1545</td>\n",
       "      <td>1545</td>\n",
       "      <td>67.896440</td>\n",
       "      <td>68.0</td>\n",
       "    </tr>\n",
       "  </tbody>\n",
       "</table>\n",
       "</div>"
      ],
      "text/plain": [
       "                                                     Date  \\\n",
       "Type d'objets                                               \n",
       "Bagagerie: sacs, valises, cartables                 31633   \n",
       "Appareils électroniques, informatiques, apparei...  15391   \n",
       "Vêtements, chaussures                               12552   \n",
       "Porte-monnaie / portefeuille, argent, titres        11613   \n",
       "Pièces d'identités et papiers personnels             8157   \n",
       "Optique                                              5202   \n",
       "Clés, porte-clés, badge magnétique                   4271   \n",
       "Livres, articles de papéterie                        2201   \n",
       "Divers                                               2195   \n",
       "Vélos, trottinettes, accessoires 2 roues             1545   \n",
       "\n",
       "                                                    Date et heure de restitution  \\\n",
       "Type d'objets                                                                      \n",
       "Bagagerie: sacs, valises, cartables                                        17032   \n",
       "Appareils électroniques, informatiques, apparei...                          6977   \n",
       "Vêtements, chaussures                                                       2394   \n",
       "Porte-monnaie / portefeuille, argent, titres                                6069   \n",
       "Pièces d'identités et papiers personnels                                    2398   \n",
       "Optique                                                                      617   \n",
       "Clés, porte-clés, badge magnétique                                           785   \n",
       "Livres, articles de papéterie                                                530   \n",
       "Divers                                                                       462   \n",
       "Vélos, trottinettes, accessoires 2 roues                                     496   \n",
       "\n",
       "                                                     Gare  Nature d'objets  \\\n",
       "Type d'objets                                                                \n",
       "Bagagerie: sacs, valises, cartables                 31633            31633   \n",
       "Appareils électroniques, informatiques, apparei...  15391            15391   \n",
       "Vêtements, chaussures                               12552            12552   \n",
       "Porte-monnaie / portefeuille, argent, titres        11613            11613   \n",
       "Pièces d'identités et papiers personnels             8157             8157   \n",
       "Optique                                              5202             5202   \n",
       "Clés, porte-clés, badge magnétique                   4271             4271   \n",
       "Livres, articles de papéterie                        2201             2201   \n",
       "Divers                                               2195             2195   \n",
       "Vélos, trottinettes, accessoires 2 roues             1545             1545   \n",
       "\n",
       "                                                         test  % objets perdus  \n",
       "Type d'objets                                                                   \n",
       "Bagagerie: sacs, valises, cartables                 46.157494             46.0  \n",
       "Appareils électroniques, informatiques, apparei...  54.668313             55.0  \n",
       "Vêtements, chaussures                               80.927342             81.0  \n",
       "Porte-monnaie / portefeuille, argent, titres        47.739602             48.0  \n",
       "Pièces d'identités et papiers personnels            70.601937             71.0  \n",
       "Optique                                             88.139177             88.0  \n",
       "Clés, porte-clés, badge magnétique                  81.620229             82.0  \n",
       "Livres, articles de papéterie                       75.920036             76.0  \n",
       "Divers                                              78.952164             79.0  \n",
       "Vélos, trottinettes, accessoires 2 roues            67.896440             68.0  "
      ]
     },
     "execution_count": 78,
     "metadata": {},
     "output_type": "execute_result"
    }
   ],
   "source": [
    "a['% objets perdus'] = round((a['Nature d\\'objets']-b['Nature d\\'objets'])/a['Nature d\\'objets']*100)\n",
    "\n",
    "a"
   ]
  },
  {
   "cell_type": "markdown",
   "id": "71fdbfa8",
   "metadata": {},
   "source": [
    "## Analyse graphique "
   ]
  }
 ],
 "metadata": {
  "kernelspec": {
   "display_name": "Python 3 (ipykernel)",
   "language": "python",
   "name": "python3"
  },
  "language_info": {
   "codemirror_mode": {
    "name": "ipython",
    "version": 3
   },
   "file_extension": ".py",
   "mimetype": "text/x-python",
   "name": "python",
   "nbconvert_exporter": "python",
   "pygments_lexer": "ipython3",
   "version": "3.11.5"
  }
 },
 "nbformat": 4,
 "nbformat_minor": 5
}
