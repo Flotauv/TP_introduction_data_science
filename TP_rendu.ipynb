{
 "cells": [
  {
   "cell_type": "code",
   "execution_count": 20,
   "id": "b4de0b2d",
   "metadata": {},
   "outputs": [
    {
     "name": "stdout",
     "output_type": "stream",
     "text": [
      "Requirement already satisfied: ydata_profiling==4.7.0 in /Library/Frameworks/Python.framework/Versions/3.9/lib/python3.9/site-packages (4.7.0)\n",
      "Requirement already satisfied: scipy<1.12,>=1.4.1 in /Library/Frameworks/Python.framework/Versions/3.9/lib/python3.9/site-packages (from ydata_profiling==4.7.0) (1.11.4)\n",
      "Requirement already satisfied: pandas!=1.4.0,<3,>1.1 in /Library/Frameworks/Python.framework/Versions/3.9/lib/python3.9/site-packages (from ydata_profiling==4.7.0) (2.2.1)\n",
      "Requirement already satisfied: matplotlib<3.9,>=3.2 in /Library/Frameworks/Python.framework/Versions/3.9/lib/python3.9/site-packages (from ydata_profiling==4.7.0) (3.8.3)\n",
      "Requirement already satisfied: pydantic>=2 in /Library/Frameworks/Python.framework/Versions/3.9/lib/python3.9/site-packages (from ydata_profiling==4.7.0) (2.6.4)\n",
      "Requirement already satisfied: PyYAML<6.1,>=5.0.0 in /Library/Frameworks/Python.framework/Versions/3.9/lib/python3.9/site-packages (from ydata_profiling==4.7.0) (6.0.1)\n",
      "Requirement already satisfied: jinja2<3.2,>=2.11.1 in /Library/Frameworks/Python.framework/Versions/3.9/lib/python3.9/site-packages (from ydata_profiling==4.7.0) (3.1.3)\n",
      "Requirement already satisfied: visions<0.7.7,>=0.7.5 in /Library/Frameworks/Python.framework/Versions/3.9/lib/python3.9/site-packages (from visions[type_image_path]<0.7.7,>=0.7.5->ydata_profiling==4.7.0) (0.7.6)\n",
      "Collecting numpy<2,>=1.16.0 (from ydata_profiling==4.7.0)\n",
      "  Using cached numpy-1.26.4-cp39-cp39-macosx_10_9_x86_64.whl.metadata (61 kB)\n",
      "Requirement already satisfied: htmlmin==0.1.12 in /Library/Frameworks/Python.framework/Versions/3.9/lib/python3.9/site-packages (from ydata_profiling==4.7.0) (0.1.12)\n",
      "Requirement already satisfied: phik<0.13,>=0.11.1 in /Library/Frameworks/Python.framework/Versions/3.9/lib/python3.9/site-packages (from ydata_profiling==4.7.0) (0.12.4)\n",
      "Requirement already satisfied: requests<3,>=2.24.0 in /Library/Frameworks/Python.framework/Versions/3.9/lib/python3.9/site-packages (from ydata_profiling==4.7.0) (2.31.0)\n",
      "Requirement already satisfied: tqdm<5,>=4.48.2 in /Library/Frameworks/Python.framework/Versions/3.9/lib/python3.9/site-packages (from ydata_profiling==4.7.0) (4.66.2)\n",
      "Requirement already satisfied: seaborn<0.13,>=0.10.1 in /Library/Frameworks/Python.framework/Versions/3.9/lib/python3.9/site-packages (from ydata_profiling==4.7.0) (0.12.2)\n",
      "Requirement already satisfied: multimethod<2,>=1.4 in /Library/Frameworks/Python.framework/Versions/3.9/lib/python3.9/site-packages (from ydata_profiling==4.7.0) (1.11.2)\n",
      "Requirement already satisfied: statsmodels<1,>=0.13.2 in /Library/Frameworks/Python.framework/Versions/3.9/lib/python3.9/site-packages (from ydata_profiling==4.7.0) (0.14.1)\n",
      "Requirement already satisfied: typeguard<5,>=4.1.2 in /Library/Frameworks/Python.framework/Versions/3.9/lib/python3.9/site-packages (from ydata_profiling==4.7.0) (4.1.5)\n",
      "Requirement already satisfied: imagehash==4.3.1 in /Library/Frameworks/Python.framework/Versions/3.9/lib/python3.9/site-packages (from ydata_profiling==4.7.0) (4.3.1)\n",
      "Requirement already satisfied: wordcloud>=1.9.1 in /Library/Frameworks/Python.framework/Versions/3.9/lib/python3.9/site-packages (from ydata_profiling==4.7.0) (1.9.3)\n",
      "Requirement already satisfied: dacite>=1.8 in /Library/Frameworks/Python.framework/Versions/3.9/lib/python3.9/site-packages (from ydata_profiling==4.7.0) (1.8.1)\n",
      "Requirement already satisfied: numba<1,>=0.56.0 in /Library/Frameworks/Python.framework/Versions/3.9/lib/python3.9/site-packages (from ydata_profiling==4.7.0) (0.59.0)\n",
      "Requirement already satisfied: PyWavelets in /Library/Frameworks/Python.framework/Versions/3.9/lib/python3.9/site-packages (from imagehash==4.3.1->ydata_profiling==4.7.0) (1.5.0)\n",
      "Requirement already satisfied: pillow in /Library/Frameworks/Python.framework/Versions/3.9/lib/python3.9/site-packages (from imagehash==4.3.1->ydata_profiling==4.7.0) (10.2.0)\n",
      "Requirement already satisfied: MarkupSafe>=2.0 in /Library/Frameworks/Python.framework/Versions/3.9/lib/python3.9/site-packages (from jinja2<3.2,>=2.11.1->ydata_profiling==4.7.0) (2.1.5)\n",
      "Requirement already satisfied: contourpy>=1.0.1 in /Library/Frameworks/Python.framework/Versions/3.9/lib/python3.9/site-packages (from matplotlib<3.9,>=3.2->ydata_profiling==4.7.0) (1.2.0)\n",
      "Requirement already satisfied: cycler>=0.10 in /Library/Frameworks/Python.framework/Versions/3.9/lib/python3.9/site-packages (from matplotlib<3.9,>=3.2->ydata_profiling==4.7.0) (0.12.1)\n",
      "Requirement already satisfied: fonttools>=4.22.0 in /Library/Frameworks/Python.framework/Versions/3.9/lib/python3.9/site-packages (from matplotlib<3.9,>=3.2->ydata_profiling==4.7.0) (4.50.0)\n",
      "Requirement already satisfied: kiwisolver>=1.3.1 in /Library/Frameworks/Python.framework/Versions/3.9/lib/python3.9/site-packages (from matplotlib<3.9,>=3.2->ydata_profiling==4.7.0) (1.4.5)\n",
      "Requirement already satisfied: packaging>=20.0 in /Users/florentsaunier/Library/Python/3.9/lib/python/site-packages (from matplotlib<3.9,>=3.2->ydata_profiling==4.7.0) (23.2)\n",
      "Requirement already satisfied: pyparsing>=2.3.1 in /Library/Frameworks/Python.framework/Versions/3.9/lib/python3.9/site-packages (from matplotlib<3.9,>=3.2->ydata_profiling==4.7.0) (3.1.2)\n",
      "Requirement already satisfied: python-dateutil>=2.7 in /Users/florentsaunier/Library/Python/3.9/lib/python/site-packages (from matplotlib<3.9,>=3.2->ydata_profiling==4.7.0) (2.8.2)\n",
      "Requirement already satisfied: importlib-resources>=3.2.0 in /Library/Frameworks/Python.framework/Versions/3.9/lib/python3.9/site-packages (from matplotlib<3.9,>=3.2->ydata_profiling==4.7.0) (6.3.1)\n",
      "Requirement already satisfied: llvmlite<0.43,>=0.42.0dev0 in /Library/Frameworks/Python.framework/Versions/3.9/lib/python3.9/site-packages (from numba<1,>=0.56.0->ydata_profiling==4.7.0) (0.42.0)\n",
      "Requirement already satisfied: pytz>=2020.1 in /Library/Frameworks/Python.framework/Versions/3.9/lib/python3.9/site-packages (from pandas!=1.4.0,<3,>1.1->ydata_profiling==4.7.0) (2024.1)\n",
      "Requirement already satisfied: tzdata>=2022.7 in /Library/Frameworks/Python.framework/Versions/3.9/lib/python3.9/site-packages (from pandas!=1.4.0,<3,>1.1->ydata_profiling==4.7.0) (2024.1)\n",
      "Requirement already satisfied: joblib>=0.14.1 in /Library/Frameworks/Python.framework/Versions/3.9/lib/python3.9/site-packages (from phik<0.13,>=0.11.1->ydata_profiling==4.7.0) (1.3.2)\n",
      "Requirement already satisfied: annotated-types>=0.4.0 in /Library/Frameworks/Python.framework/Versions/3.9/lib/python3.9/site-packages (from pydantic>=2->ydata_profiling==4.7.0) (0.6.0)\n",
      "Requirement already satisfied: pydantic-core==2.16.3 in /Library/Frameworks/Python.framework/Versions/3.9/lib/python3.9/site-packages (from pydantic>=2->ydata_profiling==4.7.0) (2.16.3)\n",
      "Requirement already satisfied: typing-extensions>=4.6.1 in /Users/florentsaunier/Library/Python/3.9/lib/python/site-packages (from pydantic>=2->ydata_profiling==4.7.0) (4.8.0)\n",
      "Requirement already satisfied: charset-normalizer<4,>=2 in /Library/Frameworks/Python.framework/Versions/3.9/lib/python3.9/site-packages (from requests<3,>=2.24.0->ydata_profiling==4.7.0) (3.3.2)\n",
      "Requirement already satisfied: idna<4,>=2.5 in /Library/Frameworks/Python.framework/Versions/3.9/lib/python3.9/site-packages (from requests<3,>=2.24.0->ydata_profiling==4.7.0) (3.6)\n",
      "Requirement already satisfied: urllib3<3,>=1.21.1 in /Library/Frameworks/Python.framework/Versions/3.9/lib/python3.9/site-packages (from requests<3,>=2.24.0->ydata_profiling==4.7.0) (2.2.1)\n",
      "Requirement already satisfied: certifi>=2017.4.17 in /Library/Frameworks/Python.framework/Versions/3.9/lib/python3.9/site-packages (from requests<3,>=2.24.0->ydata_profiling==4.7.0) (2024.2.2)\n",
      "Requirement already satisfied: patsy>=0.5.4 in /Library/Frameworks/Python.framework/Versions/3.9/lib/python3.9/site-packages (from statsmodels<1,>=0.13.2->ydata_profiling==4.7.0) (0.5.6)\n",
      "Requirement already satisfied: importlib-metadata>=3.6 in /Users/florentsaunier/Library/Python/3.9/lib/python/site-packages (from typeguard<5,>=4.1.2->ydata_profiling==4.7.0) (6.8.0)\n",
      "Requirement already satisfied: attrs>=19.3.0 in /Library/Frameworks/Python.framework/Versions/3.9/lib/python3.9/site-packages (from visions<0.7.7,>=0.7.5->visions[type_image_path]<0.7.7,>=0.7.5->ydata_profiling==4.7.0) (23.2.0)\n",
      "Requirement already satisfied: networkx>=2.4 in /Library/Frameworks/Python.framework/Versions/3.9/lib/python3.9/site-packages (from visions<0.7.7,>=0.7.5->visions[type_image_path]<0.7.7,>=0.7.5->ydata_profiling==4.7.0) (3.2.1)\n"
     ]
    },
    {
     "name": "stdout",
     "output_type": "stream",
     "text": [
      "Requirement already satisfied: zipp>=0.5 in /Users/florentsaunier/Library/Python/3.9/lib/python/site-packages (from importlib-metadata>=3.6->typeguard<5,>=4.1.2->ydata_profiling==4.7.0) (3.17.0)\n",
      "Requirement already satisfied: six in /Users/florentsaunier/Library/Python/3.9/lib/python/site-packages (from patsy>=0.5.4->statsmodels<1,>=0.13.2->ydata_profiling==4.7.0) (1.16.0)\n",
      "Using cached numpy-1.26.4-cp39-cp39-macosx_10_9_x86_64.whl (20.6 MB)\n",
      "Installing collected packages: numpy\n",
      "  Attempting uninstall: numpy\n",
      "    Found existing installation: numpy 2.0.2\n",
      "    Uninstalling numpy-2.0.2:\n",
      "      Successfully uninstalled numpy-2.0.2\n",
      "\u001b[31mERROR: pip's dependency resolver does not currently take into account all the packages that are installed. This behaviour is the source of the following dependency conflicts.\n",
      "blis 1.0.1 requires numpy<3.0.0,>=2.0.0, but you have numpy 1.26.4 which is incompatible.\n",
      "thinc 8.3.2 requires numpy<2.1.0,>=2.0.0; python_version >= \"3.9\", but you have numpy 1.26.4 which is incompatible.\u001b[0m\u001b[31m\n",
      "\u001b[0mSuccessfully installed numpy-1.26.4\n"
     ]
    }
   ],
   "source": [
    "! pip install ydata_profiling==4.7.0"
   ]
  },
  {
   "cell_type": "code",
   "execution_count": 21,
   "id": "43e11f29",
   "metadata": {},
   "outputs": [],
   "source": [
    "import numpy as np \n",
    "import pandas as pd\n",
    "import math as m \n",
    "import matplotlib.pyplot as plt\n",
    "from matplotlib.pyplot import *"
   ]
  },
  {
   "cell_type": "code",
   "execution_count": 13,
   "id": "d940fc67",
   "metadata": {},
   "outputs": [
    {
     "data": {
      "text/html": [
       "<div>\n",
       "<style scoped>\n",
       "    .dataframe tbody tr th:only-of-type {\n",
       "        vertical-align: middle;\n",
       "    }\n",
       "\n",
       "    .dataframe tbody tr th {\n",
       "        vertical-align: top;\n",
       "    }\n",
       "\n",
       "    .dataframe thead th {\n",
       "        text-align: right;\n",
       "    }\n",
       "</style>\n",
       "<table border=\"1\" class=\"dataframe\">\n",
       "  <thead>\n",
       "    <tr style=\"text-align: right;\">\n",
       "      <th></th>\n",
       "      <th>Date</th>\n",
       "      <th>Date et heure de restitution</th>\n",
       "      <th>Gare</th>\n",
       "      <th>Code UIC</th>\n",
       "      <th>Nature d'objets</th>\n",
       "      <th>Type d'objets</th>\n",
       "      <th>Type d'enregistrement</th>\n",
       "    </tr>\n",
       "  </thead>\n",
       "  <tbody>\n",
       "    <tr>\n",
       "      <th>0</th>\n",
       "      <td>2018-08-16T08:46:55+02:00</td>\n",
       "      <td>2018-08-16T10:52:08+02:00</td>\n",
       "      <td>Nantes</td>\n",
       "      <td>87481002.0</td>\n",
       "      <td>Téléphone portable</td>\n",
       "      <td>Appareils électroniques, informatiques, appare...</td>\n",
       "      <td>Objet trouvé</td>\n",
       "    </tr>\n",
       "    <tr>\n",
       "      <th>1</th>\n",
       "      <td>2018-08-16T08:50:34+02:00</td>\n",
       "      <td>NaN</td>\n",
       "      <td>Redon</td>\n",
       "      <td>87471300.0</td>\n",
       "      <td>Casque (vélo, moto)</td>\n",
       "      <td>Vélos, trottinettes, accessoires 2 roues</td>\n",
       "      <td>Objet trouvé</td>\n",
       "    </tr>\n",
       "    <tr>\n",
       "      <th>2</th>\n",
       "      <td>2018-08-16T09:11:18+02:00</td>\n",
       "      <td>NaN</td>\n",
       "      <td>Béziers</td>\n",
       "      <td>87781005.0</td>\n",
       "      <td>Sac d'enseigne (plastique, papier, …)</td>\n",
       "      <td>Bagagerie: sacs, valises, cartables</td>\n",
       "      <td>Objet trouvé</td>\n",
       "    </tr>\n",
       "    <tr>\n",
       "      <th>3</th>\n",
       "      <td>2018-08-16T09:19:47+02:00</td>\n",
       "      <td>NaN</td>\n",
       "      <td>Rennes</td>\n",
       "      <td>87471003.0</td>\n",
       "      <td>Manteau, veste, blazer, parka, blouson, cape</td>\n",
       "      <td>Vêtements, chaussures</td>\n",
       "      <td>Objet trouvé</td>\n",
       "    </tr>\n",
       "    <tr>\n",
       "      <th>4</th>\n",
       "      <td>2018-08-16T09:23:18+02:00</td>\n",
       "      <td>NaN</td>\n",
       "      <td>Paris Montparnasse</td>\n",
       "      <td>87391003.0</td>\n",
       "      <td>Sac à dos</td>\n",
       "      <td>Bagagerie: sacs, valises, cartables</td>\n",
       "      <td>Objet trouvé</td>\n",
       "    </tr>\n",
       "    <tr>\n",
       "      <th>...</th>\n",
       "      <td>...</td>\n",
       "      <td>...</td>\n",
       "      <td>...</td>\n",
       "      <td>...</td>\n",
       "      <td>...</td>\n",
       "      <td>...</td>\n",
       "      <td>...</td>\n",
       "    </tr>\n",
       "    <tr>\n",
       "      <th>907271</th>\n",
       "      <td>2024-08-30T19:59:22+02:00</td>\n",
       "      <td>2024-09-04T12:34:26+02:00</td>\n",
       "      <td>Strasbourg</td>\n",
       "      <td>87212027.0</td>\n",
       "      <td>Valise, sac sur roulettes</td>\n",
       "      <td>Bagagerie: sacs, valises, cartables</td>\n",
       "      <td>Objet trouvé</td>\n",
       "    </tr>\n",
       "    <tr>\n",
       "      <th>907272</th>\n",
       "      <td>2024-08-30T20:55:27+02:00</td>\n",
       "      <td>2024-09-05T12:49:08+02:00</td>\n",
       "      <td>Lille Europe</td>\n",
       "      <td>87223263.0</td>\n",
       "      <td>Valise, sac sur roulettes</td>\n",
       "      <td>Bagagerie: sacs, valises, cartables</td>\n",
       "      <td>Objet trouvé</td>\n",
       "    </tr>\n",
       "    <tr>\n",
       "      <th>907273</th>\n",
       "      <td>2024-08-30T23:23:44+02:00</td>\n",
       "      <td>NaN</td>\n",
       "      <td>Nîmes</td>\n",
       "      <td>87775007.0</td>\n",
       "      <td>Sac à dos</td>\n",
       "      <td>Bagagerie: sacs, valises, cartables</td>\n",
       "      <td>Objet trouvé</td>\n",
       "    </tr>\n",
       "    <tr>\n",
       "      <th>907274</th>\n",
       "      <td>2024-08-30T23:36:00+02:00</td>\n",
       "      <td>2024-08-31T12:43:30+02:00</td>\n",
       "      <td>Nice</td>\n",
       "      <td>87756056.0</td>\n",
       "      <td>Ordinateur, ordinateur portable, notebook prot...</td>\n",
       "      <td>Appareils électroniques, informatiques, appare...</td>\n",
       "      <td>Objet trouvé</td>\n",
       "    </tr>\n",
       "    <tr>\n",
       "      <th>907275</th>\n",
       "      <td>2024-08-31T06:04:15+02:00</td>\n",
       "      <td>NaN</td>\n",
       "      <td>NaN</td>\n",
       "      <td>NaN</td>\n",
       "      <td>Nécessaire, mallette de toilette, sac de maqui...</td>\n",
       "      <td>Bagagerie: sacs, valises, cartables</td>\n",
       "      <td>Objet trouvé</td>\n",
       "    </tr>\n",
       "  </tbody>\n",
       "</table>\n",
       "<p>907276 rows × 7 columns</p>\n",
       "</div>"
      ],
      "text/plain": [
       "                             Date Date et heure de restitution  \\\n",
       "0       2018-08-16T08:46:55+02:00    2018-08-16T10:52:08+02:00   \n",
       "1       2018-08-16T08:50:34+02:00                          NaN   \n",
       "2       2018-08-16T09:11:18+02:00                          NaN   \n",
       "3       2018-08-16T09:19:47+02:00                          NaN   \n",
       "4       2018-08-16T09:23:18+02:00                          NaN   \n",
       "...                           ...                          ...   \n",
       "907271  2024-08-30T19:59:22+02:00    2024-09-04T12:34:26+02:00   \n",
       "907272  2024-08-30T20:55:27+02:00    2024-09-05T12:49:08+02:00   \n",
       "907273  2024-08-30T23:23:44+02:00                          NaN   \n",
       "907274  2024-08-30T23:36:00+02:00    2024-08-31T12:43:30+02:00   \n",
       "907275  2024-08-31T06:04:15+02:00                          NaN   \n",
       "\n",
       "                      Gare    Code UIC  \\\n",
       "0                   Nantes  87481002.0   \n",
       "1                    Redon  87471300.0   \n",
       "2                  Béziers  87781005.0   \n",
       "3                   Rennes  87471003.0   \n",
       "4       Paris Montparnasse  87391003.0   \n",
       "...                    ...         ...   \n",
       "907271          Strasbourg  87212027.0   \n",
       "907272        Lille Europe  87223263.0   \n",
       "907273               Nîmes  87775007.0   \n",
       "907274                Nice  87756056.0   \n",
       "907275                 NaN         NaN   \n",
       "\n",
       "                                          Nature d'objets  \\\n",
       "0                                      Téléphone portable   \n",
       "1                                     Casque (vélo, moto)   \n",
       "2                   Sac d'enseigne (plastique, papier, …)   \n",
       "3            Manteau, veste, blazer, parka, blouson, cape   \n",
       "4                                               Sac à dos   \n",
       "...                                                   ...   \n",
       "907271                          Valise, sac sur roulettes   \n",
       "907272                          Valise, sac sur roulettes   \n",
       "907273                                          Sac à dos   \n",
       "907274  Ordinateur, ordinateur portable, notebook prot...   \n",
       "907275  Nécessaire, mallette de toilette, sac de maqui...   \n",
       "\n",
       "                                            Type d'objets  \\\n",
       "0       Appareils électroniques, informatiques, appare...   \n",
       "1                Vélos, trottinettes, accessoires 2 roues   \n",
       "2                     Bagagerie: sacs, valises, cartables   \n",
       "3                                   Vêtements, chaussures   \n",
       "4                     Bagagerie: sacs, valises, cartables   \n",
       "...                                                   ...   \n",
       "907271                Bagagerie: sacs, valises, cartables   \n",
       "907272                Bagagerie: sacs, valises, cartables   \n",
       "907273                Bagagerie: sacs, valises, cartables   \n",
       "907274  Appareils électroniques, informatiques, appare...   \n",
       "907275                Bagagerie: sacs, valises, cartables   \n",
       "\n",
       "       Type d'enregistrement  \n",
       "0               Objet trouvé  \n",
       "1               Objet trouvé  \n",
       "2               Objet trouvé  \n",
       "3               Objet trouvé  \n",
       "4               Objet trouvé  \n",
       "...                      ...  \n",
       "907271          Objet trouvé  \n",
       "907272          Objet trouvé  \n",
       "907273          Objet trouvé  \n",
       "907274          Objet trouvé  \n",
       "907275          Objet trouvé  \n",
       "\n",
       "[907276 rows x 7 columns]"
      ]
     },
     "execution_count": 13,
     "metadata": {},
     "output_type": "execute_result"
    }
   ],
   "source": [
    "df = pd.read_csv('objets-trouves-restitution.csv',sep=';')\n",
    "\n",
    "df"
   ]
  },
  {
   "cell_type": "markdown",
   "id": "c35ceced",
   "metadata": {},
   "source": [
    "## Analyse de la base de données ( à completer) "
   ]
  },
  {
   "cell_type": "code",
   "execution_count": 18,
   "id": "db6abde8",
   "metadata": {},
   "outputs": [
    {
     "name": "stdout",
     "output_type": "stream",
     "text": [
      "<class 'pandas.core.frame.DataFrame'>\n",
      "RangeIndex: 907276 entries, 0 to 907275\n",
      "Data columns (total 7 columns):\n",
      " #   Column                        Non-Null Count   Dtype  \n",
      "---  ------                        --------------   -----  \n",
      " 0   Date                          907276 non-null  object \n",
      " 1   Date et heure de restitution  350898 non-null  object \n",
      " 2   Gare                          906197 non-null  object \n",
      " 3   Code UIC                      906197 non-null  float64\n",
      " 4   Nature d'objets               907276 non-null  object \n",
      " 5   Type d'objets                 907276 non-null  object \n",
      " 6   Type d'enregistrement         907276 non-null  object \n",
      "dtypes: float64(1), object(6)\n",
      "memory usage: 48.5+ MB\n"
     ]
    }
   ],
   "source": [
    "df.info()"
   ]
  },
  {
   "cell_type": "code",
   "execution_count": 23,
   "id": "def193c2",
   "metadata": {},
   "outputs": [
    {
     "data": {
      "text/plain": [
       "50807588"
      ]
     },
     "execution_count": 23,
     "metadata": {},
     "output_type": "execute_result"
    }
   ],
   "source": [
    "df.memory_usage(index=True).sum()"
   ]
  },
  {
   "cell_type": "raw",
   "id": "f9819de1",
   "metadata": {},
   "source": [
    "La base de données contient 907 276 lignes et 7 colonnes \n"
   ]
  },
  {
   "cell_type": "raw",
   "id": "35493dd5",
   "metadata": {},
   "source": [
    "La base de données occupe un volume de 50 807 588 bytes soit 50MB "
   ]
  },
  {
   "cell_type": "markdown",
   "id": "0de2c7fa",
   "metadata": {},
   "source": [
    "## Valeurs nulles "
   ]
  },
  {
   "cell_type": "code",
   "execution_count": 24,
   "id": "5abca95e",
   "metadata": {},
   "outputs": [
    {
     "data": {
      "text/plain": [
       "Date                                 0\n",
       "Date et heure de restitution    556378\n",
       "Gare                              1079\n",
       "Code UIC                          1079\n",
       "Nature d'objets                      0\n",
       "Type d'objets                        0\n",
       "Type d'enregistrement                0\n",
       "dtype: int64"
      ]
     },
     "execution_count": 24,
     "metadata": {},
     "output_type": "execute_result"
    }
   ],
   "source": [
    "df.isna().sum()"
   ]
  },
  {
   "cell_type": "raw",
   "id": "859a7633",
   "metadata": {},
   "source": [
    "Les valeurs manquantes sont majoritairement des données relatives à l'heure et à la date de la restitution, pourtant il y a aussi des valeurs manquantes qui concerne les gares et leurs codes UIC "
   ]
  },
  {
   "cell_type": "code",
   "execution_count": 27,
   "id": "209965be",
   "metadata": {},
   "outputs": [
    {
     "data": {
      "text/plain": [
       "Date                               0\n",
       "Date et heure de restitution     893\n",
       "Gare                            1079\n",
       "Code UIC                        1079\n",
       "Nature d'objets                    0\n",
       "Type d'objets                      0\n",
       "Type d'enregistrement              0\n",
       "dtype: int64"
      ]
     },
     "execution_count": 27,
     "metadata": {},
     "output_type": "execute_result"
    }
   ],
   "source": [
    "df[df['Gare'].isna()].isna().sum()"
   ]
  },
  {
   "cell_type": "raw",
   "id": "1765ef7a",
   "metadata": {},
   "source": [
    "En prenant les valeurs manquantes de l'attribut 'Gare', on remarque que toutes les gares dont on ne connait pas le nom ont un code UIC inconnu ... cela peut sembler logique mais il y aurait très bien pu avoir une gare inconnue avec un UIC connu et vice versa. \n",
    "Au moins, nous sommes sûres. "
   ]
  },
  {
   "cell_type": "raw",
   "id": "7b2cffcd",
   "metadata": {},
   "source": [
    "Note à plus tard -> enlever les valeurs na parce qu'on peut pas les remplacer par quelque chose ... c'est pas des entiers ça nous sert pas à grand chose "
   ]
  }
 ],
 "metadata": {
  "kernelspec": {
   "display_name": "Python 3 (ipykernel)",
   "language": "python",
   "name": "python3"
  },
  "language_info": {
   "codemirror_mode": {
    "name": "ipython",
    "version": 3
   },
   "file_extension": ".py",
   "mimetype": "text/x-python",
   "name": "python",
   "nbconvert_exporter": "python",
   "pygments_lexer": "ipython3",
   "version": "3.11.5"
  }
 },
 "nbformat": 4,
 "nbformat_minor": 5
}
